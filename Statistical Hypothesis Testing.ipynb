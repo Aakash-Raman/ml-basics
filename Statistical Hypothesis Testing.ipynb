{
 "cells": [
  {
   "cell_type": "code",
   "execution_count": 1,
   "metadata": {
    "collapsed": true
   },
   "outputs": [],
   "source": [
    "%matplotlib inline\n",
    "import numpy as np\n",
    "import matplotlib.pyplot as plt"
   ]
  },
  {
   "cell_type": "markdown",
   "metadata": {},
   "source": [
    "# Statistical Hypothesis Testing with Kernels"
   ]
  },
  {
   "cell_type": "markdown",
   "metadata": {},
   "source": [
    "## Maximum Mean Discrepancy: do X and Y have the same distribution?\n",
    "\n",
    "Let's suppose we are given two sets of samples $\\{X_1, \\ldots, X_N\\}$ and $\\{Y_1, \\ldots, Y_M\\}$ draw iid from distributions $\\mathbb{P}_X$ and $\\mathbb{P}_Y$ respectively. \n",
    "\n",
    "We'd like to know whether in fact $\\mathbb{P}_X$ and $\\mathbb{P}_Y$ are the same distribution. We can do this using the kernel mean embedding.\n",
    "\n",
    "The idea is this: embed the samples $X_n$ and $Y_m$ into an RKHS and look at their means $\\tilde{\\mu}_X$ and $\\tilde{\\mu}_Y$. As $N$ and $M$ become large, these means will converge to the mean embeddings of $\\mathbb{P}_X$ and $\\mathbb{P}_Y$ ($\\mu_X$ and $\\mu_Y$). Provided that we use a _characteristic_ kernel, the mean embeddings of $\\mu_X$ and $\\mu_Y$ will be equal if and only if the distributions are themselves equal. Of course, we only have access to finite samples, and so even if $\\mathbb{P}_X$ and $\\mathbb{P}_Y$ were equal, it would be very unlikely that the empirical embeddings $\\tilde{\\mu}_X$ and $\\tilde{\\mu}_Y$ would be equal, so we'll then have to do some clever sampling method to find the distribution of this difference under the hypothesis that $\\mathbb{P}_X$ and $\\mathbb{P}_Y$ are equal."
   ]
  },
  {
   "cell_type": "markdown",
   "metadata": {},
   "source": [
    "Given a kernel $k$, the mean embeddings are defined as\n",
    "\n",
    "$$\n",
    "\\begin{align*}\n",
    "\\mu_X &= \\mathbb{E}_{X\\sim\\mathbb{P}_X} k(X, \\cdot) \\\\\n",
    "\\mu_Y &= \\mathbb{E}_{Y\\sim\\mathbb{P}_Y} k(Y, \\cdot) \n",
    "\\end{align*}\n",
    "$$\n",
    "\n",
    "The empirical embeddings are\n",
    "\n",
    "$$\n",
    "\\begin{align*}\n",
    "\\tilde{\\mu}_X &= \\frac{1}{N}\\sum_n k(X_n, \\cdot) \\\\\n",
    "\\tilde{\\mu}_Y &= \\frac{1}{M}\\sum_m k(Y_m, \\cdot) \n",
    "\\end{align*}\n",
    "$$\n",
    "\n",
    "The RKHS distance between these two can actually be evaluated:\n",
    "\n",
    "$$\n",
    "\\begin{align*}\n",
    "\\|\\tilde{\\mu}_X - \\tilde{\\mu}_Y\\|^2_{\\mathcal{H}_k} &= \\langle \\tilde{\\mu}_X, \\tilde{\\mu}_X \\rangle - 2 \\langle \\tilde{\\mu}_X, \\tilde{\\mu}_Y \\rangle + \\langle \\tilde{\\mu}_Y, \\tilde{\\mu}_Y \\rangle \\\\\n",
    "&= \\frac{1}{N^2}\\sum_{n,n'} k(X_n, X_{n'}) - \\frac{2}{NM}\\sum_{n,m} k(X_n, Y_m)  + \\frac{1}{M^2}\\sum_{m,m'} k(Y_m, Y_{m'})\\\\\n",
    "\\end{align*}\n",
    "$$"
   ]
  },
  {
   "cell_type": "markdown",
   "metadata": {},
   "source": [
    "Note: this will be a biased estimator because of the fact that in the $XX$ and $YY$ terms there are $N$ and $M$ terms where the same datum appears in both the left and right argument."
   ]
  },
  {
   "cell_type": "markdown",
   "metadata": {},
   "source": [
    "So if we construct a big matrix $K$ with entries\n",
    "\n",
    "$$\n",
    "K = \n",
    "\\begin{pmatrix}\n",
    "K_{XX} & K_{YX} \\\\\n",
    "K_{XY} & K_{YY}\n",
    "\\end{pmatrix}\n",
    "$$\n",
    "\n",
    "then our test statistic is just the averages of the diagonal blocks minus the averages of the off-diagonal blocks.\n",
    "\n",
    "This is known as the MMD (maximum mean discrepancy)"
   ]
  },
  {
   "cell_type": "code",
   "execution_count": 271,
   "metadata": {
    "collapsed": true
   },
   "outputs": [],
   "source": [
    "def gaussian_kernel(Z, length):\n",
    "    # Z.shape = [N, K]\n",
    "    # broadcasts Z to be NxKx1 tensor, Z.T to be 1xKxN\n",
    "    Z = Z[:,:,None]\n",
    "    # then Z - Z.T is NxKxN, and we sum over the data dimension K (axis=1)\n",
    "    pre_exp = ((Z - Z.T)**2).sum(axis=1)\n",
    "    \n",
    "    \n",
    "    return np.exp(-(pre_exp / length))\n",
    "\n",
    "def MMD(X, Y, kernel, kernel_parameters):\n",
    "    N = len(X)\n",
    "    M = len(Y)\n",
    "    Z = np.concatenate([X, Y])\n",
    "    K = kernel(Z, kernel_parameters)\n",
    "\n",
    "    KXX = K[0:N, 0:N]\n",
    "    KXY = K[N:, 0:N]\n",
    "    KYY = K[N:, N:]\n",
    "    \n",
    "    return (KXX.sum()/(N**2))  - (2*KXY.sum()/(N*M)) + (KYY.sum()/(M**2))\n",
    "     \n",
    "\n",
    "def MMD_test(X, Y, kernel, kernel_parameters):\n",
    "    mmd = MMD(X, Y, kernel, kernel_parameters)\n",
    "    n_samples = 100\n",
    "    null_dist = MMD_null(X, Y, kernel, kernel_parameters, n_samples)\n",
    "    p_value = (null_dist[:,None] > mmd).sum() / float(n_samples)\n",
    "    \n",
    "    return mmd, p_value\n",
    "\n",
    "def MMD_null(X, Y, kernel, kernel_parameters, n_samples):\n",
    "    S = [False for _ in range(n_samples)]\n",
    "    Z = np.concatenate([X,Y])\n",
    "    for i in range(n_samples):\n",
    "        np.random.shuffle(Z)\n",
    "        S[i] = MMD(Z[0:len(X)], Z[len(X):], kernel, kernel_parameters)\n",
    "    S = np.array(S)    \n",
    "    return S"
   ]
  },
  {
   "cell_type": "code",
   "execution_count": 272,
   "metadata": {
    "collapsed": false
   },
   "outputs": [
    {
     "data": {
      "image/png": "[encoded data removed]",
      "text/plain": [
       "<matplotlib.figure.Figure at 0x118045a10>"
      ]
     },
     "metadata": {},
     "output_type": "display_data"
    },
    {
     "name": "stdout",
     "output_type": "stream",
     "text": [
      "An MMD at least this large would occur with probability 0.13 under the hypothesis that the two distributions are the same.\n"
     ]
    }
   ],
   "source": [
    "X = np.random.randn(500,2)\n",
    "Y = np.random.randn(100,2) + 0.\n",
    "\n",
    "plt.scatter(X[:,0], X[:,1])\n",
    "plt.scatter(Y[:,0], Y[:,1])\n",
    "plt.show()\n",
    "\n",
    "mmd, p_value =  MMD_test(X, Y, gaussian_kernel, 1)\n",
    "print \"An MMD at least this large would occur with probability \" + str(p_value) + \\\n",
    "\" under the hypothesis that the two distributions are the same.\""
   ]
  },
  {
   "cell_type": "markdown",
   "metadata": {},
   "source": [
    "## Hilbert Schmidt Independence Criterion: are X and Y independent?"
   ]
  },
  {
   "cell_type": "markdown",
   "metadata": {},
   "source": [
    "We can use a very similar methodology for independence testing.\n",
    "\n",
    "Suppose we are given samples $(X_i,Y_i)$, $i=1,\\ldots,N$ draw from the joint distribution $\\mathbb{P}_{XY}$. We want to know whether $X$ and $Y$ are independent. Equivalently, we can ask whether $\\mathbb{P}_{XY} = \\mathbb{P}_{X}\\mathbb{P}_{Y}$.\n",
    "\n",
    "It can be shown that if we have kernels $k$ and $l$ over $\\mathcal{X}$ and $\\mathcal{Y}$ respectively, then $k \\otimes l$ is a kernel on $\\mathcal{X}\\times \\mathcal{Y}$. We can write the mean embedding of $\\mathbb{P}_{XY}$ with this kernel as $\\mu_{XY}$. \n",
    "\n",
    "It can also be shown that if $\\mathbb{P}_{XY} = \\mathbb{P}_{X}\\mathbb{P}_{Y}$ then $\\mu_{XY} = \\mu_{X}\\otimes \\mu_{Y}$.\n",
    "\n"
   ]
  },
  {
   "cell_type": "markdown",
   "metadata": {},
   "source": [
    "We have empirical estimates for the above quantities:\n",
    "\n",
    "$$\n",
    "\\tilde{\\mu}_{XY} = \\frac{1}{N} \\sum_{n=1}^N k(X_n, \\cdot) l(Y_n, \\cdot)\n",
    "$$\n",
    "\n",
    "$$\n",
    "\\tilde{\\mu}_{X}\\otimes\\tilde{\\mu}_Y = \\frac{1}{N} \\sum_{n=1}^N k(X_n, \\cdot)  \\frac{1}{N} \\sum_{m=1}^N l(Y_{m}, \\cdot)\n",
    "$$\n"
   ]
  },
  {
   "cell_type": "markdown",
   "metadata": {},
   "source": [
    "Our test statistic will be \n",
    "\n",
    "$$\n",
    "\\begin{align*}\n",
    "\\| \\tilde{\\mu}_{XY} - \\tilde{\\mu}_{X}\\otimes\\tilde{\\mu}_Y \\|^2 &= \\langle \\tilde{\\mu}_{XY}, \\tilde{\\mu}_{XY}\\rangle - 2 \\langle \\tilde{\\mu}_{XY}, \\tilde{\\mu}_{X}\\otimes\\tilde{\\mu}_Y\\rangle + \\langle \\tilde{\\mu}_{X}\\otimes\\tilde{\\mu}_Y, \\tilde{\\mu}_{X}\\otimes\\tilde{\\mu}_Y\\rangle \\\\\n",
    "&= \\frac{1}{N^2} \\sum_{n,m} k(X_n,X_m)l(Y_n,Y_m) - \\frac{2}{N^3}\\sum_{n,m,s} k(X_n,X_m)l(X_n,X_s) + \\frac{1}{N^4}\\sum_{n,m,s,t} k(X_n,X_m)l(X_s,X_t)\\\\\n",
    "\\end{align*}\n",
    "$$"
   ]
  },
  {
   "cell_type": "markdown",
   "metadata": {},
   "source": [
    "We'll write $K$ and $L$ for the matrices with entries $K_{ij} = k(X_i, X_j)$ and $L_{ij} = l(Y_i, Y_j)$.\n",
    "\n",
    "We will also write $M_{++}$ for the sum of all of the entries of the matrix $M$, $\\circ$ for the Hadamard (aka element-wise) product (e.g. $K\\circ L$) and $M_{+}$ for the vector with entries $(M_{+})_i = \\sum_n M_{in}$"
   ]
  },
  {
   "cell_type": "markdown",
   "metadata": {},
   "source": [
    "Using this abbreviated notation, we can express the above quantities more succinctly:\n",
    "\n",
    "$$\n",
    "\\begin{align*}\n",
    "\\| \\tilde{\\mu}_{XY} - \\tilde{\\mu}_{X}\\otimes\\tilde{\\mu}_Y \\|^2 &= \\frac{1}{N^2} (K\\circ L)_{++} - \\frac{2}{N^3} (K_{+}\\circ L_{+})_{+}  + \\frac{1}{N^4} K_{++} L_{++}\\\\\n",
    "\\end{align*}\n",
    "$$\n",
    "\n",
    "This test statistic is known as HSIC (Hilbert Schmidt Independence Criterion)."
   ]
  },
  {
   "cell_type": "markdown",
   "metadata": {},
   "source": [
    "As before, we won't expect in the finite-sample case that this statistic will actually be equal to $0$ even if $X$ and $Y$ are independent. We need to see if it is _significantly far away from zero_ under the hypothesis of independence. We can simulate draws under the hypothesis of independence by applying a permutation to the indices of one of the $X_i$ or $Y_i$.\n",
    "\n",
    "That is, we can generate lots of permutations $\\pi$ of the integers $1,\\ldots,N$ and calculate HSIC using the dataset $(X_{\\pi(i)}, Y_i)$ and get a p-value for our actual sample of data."
   ]
  },
  {
   "cell_type": "code",
   "execution_count": 188,
   "metadata": {
    "collapsed": true
   },
   "outputs": [],
   "source": [
    "K = np.random.randn(5,5)"
   ]
  },
  {
   "cell_type": "code",
   "execution_count": 194,
   "metadata": {
    "collapsed": false
   },
   "outputs": [
    {
     "data": {
      "text/plain": [
       "17.860681577107975"
      ]
     },
     "execution_count": 194,
     "metadata": {},
     "output_type": "execute_result"
    }
   ],
   "source": [
    "( K.sum(axis=1) * K.sum(axis=1) ).sum()"
   ]
  },
  {
   "cell_type": "code",
   "execution_count": null,
   "metadata": {
    "collapsed": true
   },
   "outputs": [],
   "source": []
  },
  {
   "cell_type": "code",
   "execution_count": 362,
   "metadata": {
    "collapsed": true
   },
   "outputs": [],
   "source": [
    "def HSIC(X, Y, kernel_X, parameters_X, kernel_Y, parameters_Y, null=False):\n",
    "    if null is True:\n",
    "        X = np.random.permutation(X)\n",
    "    K = kernel_X(X, parameters_X)\n",
    "    L = kernel_Y(Y, parameters_Y)\n",
    "    N = len(X)\n",
    "    \n",
    "    hsic = ( (K*L).sum() / float(N**2) ) - ( 2 * (K.sum(axis=1) * L.sum(axis=1)).sum() / float(N**3) ) + ( K.sum() * L.sum() / float(N**4) )\n",
    "    return hsic\n",
    "\n",
    "def HSIC_test(X, Y, kernel_X, parameters_X, kernel_Y, parameters_Y):\n",
    "    hsic = HSIC(X, Y, kernel_X, parameters_X, kernel_Y, parameters_Y, null=False)\n",
    "    \n",
    "    n_samples = 1000\n",
    "    null_distribution = [False for _ in range(n_samples)]\n",
    "    for i in range(n_samples):\n",
    "        null_distribution[i] = HSIC(X, Y, kernel_X, parameters_X, kernel_Y, parameters_Y, null=True)\n",
    "    null_distribution = np.array(null_distribution)    \n",
    "    p_value = ( null_distribution > np.array(hsic) ).sum() / float(n_samples)\n",
    "    return p_value"
   ]
  },
  {
   "cell_type": "code",
   "execution_count": 368,
   "metadata": {
    "collapsed": false
   },
   "outputs": [
    {
     "data": {
      "image/png": "[encoded data removed]",
      "text/plain": [
       "<matplotlib.figure.Figure at 0x1176af0d0>"
      ]
     },
     "metadata": {},
     "output_type": "display_data"
    },
    {
     "name": "stdout",
     "output_type": "stream",
     "text": [
      "The probability of HSIC being its size or larger under the hypothesis that X and Y are independent is 0.295\n"
     ]
    }
   ],
   "source": [
    "X = np.random.randn(100,1)[:, None]\n",
    "Y = np.random.randn(100,1)[:, None]\n",
    "\n",
    "p_value = HSIC_test(X, Y, gaussian_kernel, 1, gaussian_kernel, 1)\n",
    "\n",
    "plt.scatter(X[:,0], Y[:,0])\n",
    "plt.show()\n",
    "print \"The probability of HSIC being its size or larger under the hypothesis that X and Y are independent is \" + str(p_value)"
   ]
  },
  {
   "cell_type": "code",
   "execution_count": 372,
   "metadata": {
    "collapsed": false
   },
   "outputs": [
    {
     "data": {
      "image/png": "[encoded data removed]",
      "text/plain": [
       "<matplotlib.figure.Figure at 0x1182dd990>"
      ]
     },
     "metadata": {},
     "output_type": "display_data"
    },
    {
     "name": "stdout",
     "output_type": "stream",
     "text": [
      "The probability of HSIC being its size or larger under the hypothesis that X and Y are independent is 0.0\n"
     ]
    }
   ],
   "source": [
    "X = np.random.randn(100,1)[:, None]\n",
    "Y = X + 0.5*np.random.randn(100,1)[:,None]\n",
    "\n",
    "p_value = HSIC_test(X, Y, gaussian_kernel, 1, gaussian_kernel, 1)\n",
    "\n",
    "plt.scatter(X[:,0], Y[:,0])\n",
    "plt.show()\n",
    "print \"The probability of HSIC being its size or larger under the hypothesis that X and Y are independent is \" + str(p_value)"
   ]
  }
 ],
 "metadata": {
  "kernelspec": {
   "display_name": "Python 2",
   "language": "python",
   "name": "python2"
  },
  "language_info": {
   "codemirror_mode": {
    "name": "ipython",
    "version": 2
   },
   "file_extension": ".py",
   "mimetype": "text/x-python",
   "name": "python",
   "nbconvert_exporter": "python",
   "pygments_lexer": "ipython2",
   "version": "2.7.9"
  }
 },
 "nbformat": 4,
 "nbformat_minor": 2
}
